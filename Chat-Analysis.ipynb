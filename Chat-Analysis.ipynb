{
 "cells": [
  {
   "cell_type": "code",
   "execution_count": 1,
   "id": "cddcb407",
   "metadata": {},
   "outputs": [
    {
     "name": "stdout",
     "output_type": "stream",
     "text": [
      "*** Importing Modules\n",
      "*** Import Complete\n"
     ]
    }
   ],
   "source": [
    "print(\"*** Importing Modules\")\n",
    "\n",
    "__author__ = \"Numerical Analysis Intelligence (NumbersAI) Group\"\n",
    "\n",
    "import re\n",
    "import datetime as dt\n",
    "\n",
    "try: \n",
    "    import numpy as np\n",
    "except ImportError as e:\n",
    "    !pip install numpy\n",
    "    \n",
    "try:\n",
    "    import pandas as pd\n",
    "    pd.options.mode.chained_assignment = None  # default='warn'\n",
    "except ImportError as e:\n",
    "    !pip install pandas\n",
    "try:\n",
    "    import matplotlib.pyplot as plt\n",
    "except ImportError as e:\n",
    "    !pip install matplotlib\n",
    "    \n",
    "print(\"*** Import Complete\")\n"
   ]
  },
  {
   "cell_type": "code",
   "execution_count": 2,
   "id": "a8bd669e",
   "metadata": {},
   "outputs": [
    {
     "name": "stdout",
     "output_type": "stream",
     "text": [
      "*** Loading Data\n",
      "*** Loading Complete\n"
     ]
    }
   ],
   "source": [
    "print(\"*** Loading Data\")\n",
    "\n",
    "chat_log_file = './logs/chat.log'\n",
    "\n",
    "with open(chat_log_file) as f:\n",
    "    lines = f.readlines()\n",
    "                      \n",
    "print(\"*** Loading Complete\")"
   ]
  },
  {
   "cell_type": "code",
   "execution_count": 3,
   "id": "1752370a",
   "metadata": {},
   "outputs": [
    {
     "name": "stdout",
     "output_type": "stream",
     "text": [
      "*** Preprocess Data\n",
      "*** Processing Complete\n"
     ]
    }
   ],
   "source": [
    "print(\"*** Preprocess Data\")\n",
    "\n",
    "def process_line(line):\n",
    "    \n",
    "    if line is None or line==\"\":\n",
    "        return()\n",
    "    \n",
    "    message_regex = '^(\\d{4}-\\d{2}-\\d{2}T\\d{2}:\\d{2}:\\d{2}-\\d{4}).+:(.*)\\!.*@.*\\.tmi\\.twitch\\.tv PRIVMSG #(.*) :(.*)'\n",
    "\n",
    "    try:\n",
    "        timestamp, username, channel, message = re.search(message_regex, line).groups()\n",
    "    except:\n",
    "        return(None)\n",
    "    \n",
    "    message = re.sub(' +', ' ', message)\n",
    "    tokens = message.split()\n",
    "    token_count = len(tokens)\n",
    "    spinny_count = len([token for token in tokens if token=='hermitSpinnyKitty'])\n",
    "    \n",
    "    return(timestamp, username,message,token_count,spinny_count)\n",
    "\n",
    "timestamp_format = '%Y-%m-%dT%H:%M:%S%z'\n",
    "regex_time_stamp = '^(\\d{4}-\\d{2}-\\d{2}T\\d{2}:\\d{2}:\\d{2}-\\d{4})'\n",
    "\n",
    "repaired_lines = list()\n",
    "previous_timestamp = \"\"\n",
    "\n",
    "for line in lines:\n",
    "    try:\n",
    "        timestamp = re.search(regex_time_stamp, line).groups()\n",
    "        previous_timestamp = timestamp[0]\n",
    "        repaired_lines.append(line)\n",
    "    except Exception as e:\n",
    "        if line is not None or line!=\"\":\n",
    "            repaired_line = \"{0} — {1}\".format(previous_timestamp,line)\n",
    "            repaired_lines.append(repaired_line)\n",
    "    \n",
    "processed_chat = list()\n",
    "for line in repaired_lines:\n",
    "    try:\n",
    "        timestamp_str, username, message, token_count, spinny_count = process_line(line)\n",
    "        timestamp = dt.datetime.strptime(timestamp_str,timestamp_format)\n",
    "        processed_message = dict()\n",
    "        processed_message['time'] = timestamp\n",
    "        processed_message['user'] = username\n",
    "        processed_message['token_count'] = token_count\n",
    "        processed_message['spinny_count'] = spinny_count\n",
    "        processed_message['message'] = message\n",
    "        processed_chat.append(processed_message)\n",
    "    except Exception as e:\n",
    "        continue\n",
    "\n",
    "chatDF = pd.DataFrame.from_dict(processed_chat)\n",
    "\n",
    "print(\"*** Processing Complete\")"
   ]
  },
  {
   "cell_type": "code",
   "execution_count": 4,
   "id": "282ea549",
   "metadata": {},
   "outputs": [
    {
     "name": "stdout",
     "output_type": "stream",
     "text": [
      "*** All Chat\n"
     ]
    },
    {
     "data": {
      "text/html": [
       "<div>\n",
       "<style scoped>\n",
       "    .dataframe tbody tr th:only-of-type {\n",
       "        vertical-align: middle;\n",
       "    }\n",
       "\n",
       "    .dataframe tbody tr th {\n",
       "        vertical-align: top;\n",
       "    }\n",
       "\n",
       "    .dataframe thead th {\n",
       "        text-align: right;\n",
       "    }\n",
       "</style>\n",
       "<table border=\"1\" class=\"dataframe\">\n",
       "  <thead>\n",
       "    <tr style=\"text-align: right;\">\n",
       "      <th></th>\n",
       "      <th>token_count</th>\n",
       "      <th>spinny_count</th>\n",
       "    </tr>\n",
       "  </thead>\n",
       "  <tbody>\n",
       "    <tr>\n",
       "      <th>count</th>\n",
       "      <td>10286.000000</td>\n",
       "      <td>10286.000000</td>\n",
       "    </tr>\n",
       "    <tr>\n",
       "      <th>mean</th>\n",
       "      <td>7.506125</td>\n",
       "      <td>0.224577</td>\n",
       "    </tr>\n",
       "    <tr>\n",
       "      <th>std</th>\n",
       "      <td>6.949496</td>\n",
       "      <td>2.014995</td>\n",
       "    </tr>\n",
       "    <tr>\n",
       "      <th>min</th>\n",
       "      <td>1.000000</td>\n",
       "      <td>0.000000</td>\n",
       "    </tr>\n",
       "    <tr>\n",
       "      <th>25%</th>\n",
       "      <td>3.000000</td>\n",
       "      <td>0.000000</td>\n",
       "    </tr>\n",
       "    <tr>\n",
       "      <th>50%</th>\n",
       "      <td>6.000000</td>\n",
       "      <td>0.000000</td>\n",
       "    </tr>\n",
       "    <tr>\n",
       "      <th>75%</th>\n",
       "      <td>9.000000</td>\n",
       "      <td>0.000000</td>\n",
       "    </tr>\n",
       "    <tr>\n",
       "      <th>max</th>\n",
       "      <td>88.000000</td>\n",
       "      <td>24.000000</td>\n",
       "    </tr>\n",
       "  </tbody>\n",
       "</table>\n",
       "</div>"
      ],
      "text/plain": [
       "        token_count  spinny_count\n",
       "count  10286.000000  10286.000000\n",
       "mean       7.506125      0.224577\n",
       "std        6.949496      2.014995\n",
       "min        1.000000      0.000000\n",
       "25%        3.000000      0.000000\n",
       "50%        6.000000      0.000000\n",
       "75%        9.000000      0.000000\n",
       "max       88.000000     24.000000"
      ]
     },
     "execution_count": 4,
     "metadata": {},
     "output_type": "execute_result"
    }
   ],
   "source": [
    "print(\"*** All Chat\" )\n",
    "chatDF.describe()"
   ]
  },
  {
   "cell_type": "markdown",
   "id": "daef1cdf",
   "metadata": {},
   "source": [
    "print(\"*** Shape of the Dataframe\")\n",
    "chatDF.shape"
   ]
  },
  {
   "cell_type": "code",
   "execution_count": 5,
   "id": "12316cae",
   "metadata": {},
   "outputs": [
    {
     "name": "stdout",
     "output_type": "stream",
     "text": [
      "*** Time Range\n"
     ]
    },
    {
     "data": {
      "text/plain": [
       "0       2022-12-02 19:54:28-06:00\n",
       "1       2022-12-02 19:54:30-06:00\n",
       "2       2022-12-02 19:54:52-06:00\n",
       "3       2022-12-02 19:55:21-06:00\n",
       "4       2022-12-02 19:55:47-06:00\n",
       "                   ...           \n",
       "10281   2022-12-10 06:09:52-06:00\n",
       "10282   2022-12-10 06:09:54-06:00\n",
       "10283   2022-12-10 06:10:10-06:00\n",
       "10284   2022-12-10 06:10:11-06:00\n",
       "10285   2022-12-10 06:10:11-06:00\n",
       "Name: time, Length: 10286, dtype: datetime64[ns, UTC-06:00]"
      ]
     },
     "execution_count": 5,
     "metadata": {},
     "output_type": "execute_result"
    }
   ],
   "source": [
    "print(\"*** Time Range\")\n",
    "chatDF['time'].sort_values()"
   ]
  },
  {
   "cell_type": "code",
   "execution_count": 1,
   "id": "1cc2d48a",
   "metadata": {},
   "outputs": [
    {
     "ename": "NameError",
     "evalue": "name 'chatDF' is not defined",
     "output_type": "error",
     "traceback": [
      "\u001b[0;31m---------------------------------------------------------------------------\u001b[0m",
      "\u001b[0;31mNameError\u001b[0m                                 Traceback (most recent call last)",
      "Cell \u001b[0;32mIn [1], line 3\u001b[0m\n\u001b[1;32m      1\u001b[0m spinnyKitty \u001b[38;5;241m=\u001b[39m \u001b[38;5;124m'\u001b[39m\u001b[38;5;124mhermitSpinnyKitty\u001b[39m\u001b[38;5;124m'\u001b[39m\n\u001b[0;32m----> 3\u001b[0m spinnyDF \u001b[38;5;241m=\u001b[39m \u001b[43mchatDF\u001b[49m[chatDF[\u001b[38;5;124m'\u001b[39m\u001b[38;5;124mmessage\u001b[39m\u001b[38;5;124m'\u001b[39m]\u001b[38;5;241m.\u001b[39mstr\u001b[38;5;241m.\u001b[39mcontains(spinnyKitty)]\n\u001b[1;32m      4\u001b[0m spinnyDF\n",
      "\u001b[0;31mNameError\u001b[0m: name 'chatDF' is not defined"
     ]
    }
   ],
   "source": [
    "spinnyKitty = 'hermitSpinnyKitty'\n",
    "\n",
    "spinnyDF = chatDF[chatDF['message'].str.contains(spinnyKitty)]\n",
    "spinnyDF"
   ]
  },
  {
   "cell_type": "code",
   "execution_count": 7,
   "id": "7270b2f5",
   "metadata": {},
   "outputs": [
    {
     "data": {
      "text/plain": [
       "<AxesSubplot: xlabel='Train Level Reached', ylabel='Time'>"
      ]
     },
     "execution_count": 7,
     "metadata": {},
     "output_type": "execute_result"
    },
    {
     "data": {
      "image/png": "[encoded data removed]",
      "text/plain": [
       "<Figure size 640x480 with 1 Axes>"
      ]
     },
     "metadata": {},
     "output_type": "display_data"
    }
   ],
   "source": [
    "train = 'Hype Train STARTED|Hype Train ENDED'\n",
    "\n",
    "trainDF = chatDF[chatDF['message'].str.contains(train)]\n",
    "\n",
    "train_ended = 'Hype Train ENDED'\n",
    "regex_train_level = 'reached\\sLevel\\s(\\d+)'\n",
    "\n",
    "trainEndDF = trainDF[trainDF['message'].str.contains(train_ended)]\n",
    "\n",
    "def get_train_level(message):\n",
    "    train_level = 1\n",
    "    \n",
    "    try:\n",
    "        if 'ENDED' in message:\n",
    "            train_level = int(re.search(regex_train_level, message).groups()[0])\n",
    "    except ValueError:\n",
    "        return(pd.np.nan)\n",
    "    try:\n",
    "        return train_level if train_level else pd.np.nan\n",
    "    except KeyError:\n",
    "        return(pd.np.nan)\n",
    "    \n",
    "unique_messages = trainEndDF['message'].unique()\n",
    "unique_messages = pd.Series(unique_messages, index = unique_messages)\n",
    "\n",
    "trainEndDF['train_level'] = trainEndDF['message'].map(unique_messages.apply(get_train_level))\n",
    "\n",
    "graphTrainLevels = trainEndDF[['time', 'train_level']]\n",
    "graphTrainLevels.set_index(\"time\",drop=True,inplace=True)\n",
    "graphTrainLevels.plot.barh(ylabel='Time', xlabel='Train Level Reached')"
   ]
  },
  {
   "cell_type": "code",
   "execution_count": 17,
   "id": "70ad9157",
   "metadata": {},
   "outputs": [],
   "source": [
    "from ircchat import chat_frame"
   ]
  },
  {
   "cell_type": "code",
   "execution_count": 18,
   "id": "d3a6817b",
   "metadata": {},
   "outputs": [],
   "source": [
    "frame = chat_frame()"
   ]
  },
  {
   "cell_type": "code",
   "execution_count": 19,
   "id": "0c8ebb25",
   "metadata": {},
   "outputs": [
    {
     "name": "stderr",
     "output_type": "stream",
     "text": [
      "/var/folders/yy/bcln977j2rbdw0jj3fzvdd3r0000gp/T/ipykernel_1144/1279029937.py:3: FutureWarning: Using short name for 'orient' is deprecated. Only the options: ('dict', list, 'series', 'split', 'records', 'index') will be used in a future version. Use one of the above to silence this warning.\n",
      "  for record in chatDF.to_dict('record'):\n"
     ]
    }
   ],
   "source": [
    "frame_results = list()\n",
    "\n",
    "for record in chatDF.to_dict('record'):\n",
    "    frame.add_message(record)\n",
    "    if frame.is_ready:\n",
    "        frame_profile_dict = dict()\n",
    "        frame_profile_dict['time_range'] = frame.time_range\n",
    "        frame_profile_dict['distinct_user_count'] = frame.distinct_user_count\n",
    "        frame_profile_dict['mean_tokens'] = frame.mean_tokens\n",
    "        frame_profile_dict['mean_spinny'] = frame.mean_spinny\n",
    "        frame_results.append(frame_profile_dict)\n",
    "        \n",
    "chatFrameDF = pd.DataFrame.from_dict(frame_results)"
   ]
  },
  {
   "cell_type": "code",
   "execution_count": 20,
   "id": "da9bda03",
   "metadata": {},
   "outputs": [
    {
     "name": "stdout",
     "output_type": "stream",
     "text": [
      "*** Assigning Classifiction\n",
      "*** Classifiction Complete\n"
     ]
    }
   ],
   "source": [
    "print(\"*** Assigning Classifiction\")\n",
    "\n",
    "# The classification label assignment logic function\n",
    "\n",
    "def assign_class(frame):\n",
    "\n",
    "    condition = 0\n",
    "    if frame.time_range <=30:\n",
    "        condition += 1\n",
    "    if frame.distinct_user_count >=3:\n",
    "        condition += 1\n",
    "    if frame.mean_tokens >=6:\n",
    "        condition += 1\n",
    "    if frame.mean_spinny >=4:\n",
    "        condition += 1\n",
    "    if condition == 4:\n",
    "        return(1)\n",
    "    else:\n",
    "        return(0)\n",
    "\n",
    "# Define the lambda for the pandas apply\n",
    "assign_class_funct = lambda x: assign_class(x)\n",
    "\n",
    "chatFrameDF['Class'] = chatFrameDF.apply(assign_class_funct,axis=1).astype('category')\n",
    "print(\"*** Classifiction Complete\")\n"
   ]
  },
  {
   "cell_type": "code",
   "execution_count": 21,
   "id": "1a4d7540",
   "metadata": {},
   "outputs": [
    {
     "data": {
      "text/html": [
       "<div>\n",
       "<style scoped>\n",
       "    .dataframe tbody tr th:only-of-type {\n",
       "        vertical-align: middle;\n",
       "    }\n",
       "\n",
       "    .dataframe tbody tr th {\n",
       "        vertical-align: top;\n",
       "    }\n",
       "\n",
       "    .dataframe thead th {\n",
       "        text-align: right;\n",
       "    }\n",
       "</style>\n",
       "<table border=\"1\" class=\"dataframe\">\n",
       "  <thead>\n",
       "    <tr style=\"text-align: right;\">\n",
       "      <th></th>\n",
       "      <th>time_range</th>\n",
       "      <th>distinct_user_count</th>\n",
       "      <th>mean_tokens</th>\n",
       "      <th>mean_spinny</th>\n",
       "      <th>Class</th>\n",
       "    </tr>\n",
       "  </thead>\n",
       "  <tbody>\n",
       "    <tr>\n",
       "      <th>0</th>\n",
       "      <td>79.0</td>\n",
       "      <td>0</td>\n",
       "      <td>9.2</td>\n",
       "      <td>0.0</td>\n",
       "      <td>0</td>\n",
       "    </tr>\n",
       "    <tr>\n",
       "      <th>1</th>\n",
       "      <td>100.0</td>\n",
       "      <td>0</td>\n",
       "      <td>11.2</td>\n",
       "      <td>0.0</td>\n",
       "      <td>0</td>\n",
       "    </tr>\n",
       "    <tr>\n",
       "      <th>2</th>\n",
       "      <td>127.0</td>\n",
       "      <td>0</td>\n",
       "      <td>8.6</td>\n",
       "      <td>0.0</td>\n",
       "      <td>0</td>\n",
       "    </tr>\n",
       "    <tr>\n",
       "      <th>3</th>\n",
       "      <td>119.0</td>\n",
       "      <td>0</td>\n",
       "      <td>8.4</td>\n",
       "      <td>0.0</td>\n",
       "      <td>0</td>\n",
       "    </tr>\n",
       "    <tr>\n",
       "      <th>4</th>\n",
       "      <td>94.0</td>\n",
       "      <td>0</td>\n",
       "      <td>7.6</td>\n",
       "      <td>0.0</td>\n",
       "      <td>0</td>\n",
       "    </tr>\n",
       "    <tr>\n",
       "      <th>...</th>\n",
       "      <td>...</td>\n",
       "      <td>...</td>\n",
       "      <td>...</td>\n",
       "      <td>...</td>\n",
       "      <td>...</td>\n",
       "    </tr>\n",
       "    <tr>\n",
       "      <th>10277</th>\n",
       "      <td>31.0</td>\n",
       "      <td>0</td>\n",
       "      <td>3.2</td>\n",
       "      <td>0.0</td>\n",
       "      <td>0</td>\n",
       "    </tr>\n",
       "    <tr>\n",
       "      <th>10278</th>\n",
       "      <td>20.0</td>\n",
       "      <td>0</td>\n",
       "      <td>3.6</td>\n",
       "      <td>0.0</td>\n",
       "      <td>0</td>\n",
       "    </tr>\n",
       "    <tr>\n",
       "      <th>10279</th>\n",
       "      <td>26.0</td>\n",
       "      <td>0</td>\n",
       "      <td>3.0</td>\n",
       "      <td>0.0</td>\n",
       "      <td>0</td>\n",
       "    </tr>\n",
       "    <tr>\n",
       "      <th>10280</th>\n",
       "      <td>24.0</td>\n",
       "      <td>0</td>\n",
       "      <td>3.0</td>\n",
       "      <td>0.0</td>\n",
       "      <td>0</td>\n",
       "    </tr>\n",
       "    <tr>\n",
       "      <th>10281</th>\n",
       "      <td>19.0</td>\n",
       "      <td>0</td>\n",
       "      <td>2.4</td>\n",
       "      <td>0.0</td>\n",
       "      <td>0</td>\n",
       "    </tr>\n",
       "  </tbody>\n",
       "</table>\n",
       "<p>10282 rows × 5 columns</p>\n",
       "</div>"
      ],
      "text/plain": [
       "       time_range  distinct_user_count  mean_tokens  mean_spinny Class\n",
       "0            79.0                    0          9.2          0.0     0\n",
       "1           100.0                    0         11.2          0.0     0\n",
       "2           127.0                    0          8.6          0.0     0\n",
       "3           119.0                    0          8.4          0.0     0\n",
       "4            94.0                    0          7.6          0.0     0\n",
       "...           ...                  ...          ...          ...   ...\n",
       "10277        31.0                    0          3.2          0.0     0\n",
       "10278        20.0                    0          3.6          0.0     0\n",
       "10279        26.0                    0          3.0          0.0     0\n",
       "10280        24.0                    0          3.0          0.0     0\n",
       "10281        19.0                    0          2.4          0.0     0\n",
       "\n",
       "[10282 rows x 5 columns]"
      ]
     },
     "execution_count": 21,
     "metadata": {},
     "output_type": "execute_result"
    }
   ],
   "source": [
    "chatFrameDF"
   ]
  },
  {
   "cell_type": "code",
   "execution_count": 22,
   "id": "8734f74e",
   "metadata": {},
   "outputs": [
    {
     "name": "stdout",
     "output_type": "stream",
     "text": [
      "*** Importing Machine Learning Modules\n",
      "*** Import Complete\n"
     ]
    }
   ],
   "source": [
    "print(\"*** Importing Machine Learning Modules\")\n",
    "\n",
    "# Import Scikit-learn helper functions\n",
    "from sklearn.model_selection import train_test_split\n",
    "from sklearn.preprocessing import StandardScaler\n",
    "\n",
    "# Import Scikit-learn models\n",
    "from sklearn.linear_model import LogisticRegression\n",
    "from sklearn.naive_bayes import MultinomialNB\n",
    "from sklearn.naive_bayes import GaussianNB\n",
    "\n",
    "# Import Scikit-learn metric functions\n",
    "from sklearn.metrics import confusion_matrix, classification_report\n",
    "import seaborn as sns\n",
    "\n",
    "print(\"*** Import Complete\")\n"
   ]
  },
  {
   "cell_type": "code",
   "execution_count": 23,
   "id": "4905e72d",
   "metadata": {},
   "outputs": [
    {
     "name": "stdout",
     "output_type": "stream",
     "text": [
      "*** Splitting Data ***\n",
      "*** Data Split Complete ***\n"
     ]
    }
   ],
   "source": [
    "# Split the data\n",
    "print('*** Splitting Data ***')\n",
    "\n",
    "test_ratio = .2\n",
    "train_d, test_d = train_test_split(chatFrameDF, test_size=test_ratio, random_state=42)\n",
    "\n",
    "train_labels = train_d.Class\n",
    "test_labels = test_d.Class\n",
    "\n",
    "print('*** Data Split Complete ***')"
   ]
  },
  {
   "cell_type": "code",
   "execution_count": 24,
   "id": "0341ad68",
   "metadata": {},
   "outputs": [
    {
     "name": "stdout",
     "output_type": "stream",
     "text": [
      "*** Build Model ***\n",
      "*** Model Complete ***\n"
     ]
    }
   ],
   "source": [
    "print('*** Build Model ***')\n",
    "\n",
    "features = ['time_range','distinct_user_count','mean_tokens','mean_spinny']\n",
    "\n",
    "train_data = train_d.loc[:,features].values\n",
    "test_data = test_d.loc[:,features].values\n",
    "    \n",
    "model = GaussianNB()\n",
    "model.fit(train_data,train_labels)\n",
    "\n",
    "print('*** Model Complete ***')"
   ]
  },
  {
   "cell_type": "code",
   "execution_count": 25,
   "id": "f2065e34",
   "metadata": {},
   "outputs": [
    {
     "name": "stdout",
     "output_type": "stream",
     "text": [
      "*** Check Accuracy ***\n",
      "Accuracy: 0.9907632474477395\n",
      "*** Check Complete ***\n"
     ]
    }
   ],
   "source": [
    "print('*** Check Accuracy ***')\n",
    "\n",
    "from sklearn import metrics\n",
    "\n",
    "spinny_pred = model.predict(test_data)\n",
    "print(\"Accuracy:\",metrics.accuracy_score(test_labels, spinny_pred))\n",
    "\n",
    "print('*** Check Complete ***')"
   ]
  },
  {
   "cell_type": "code",
   "execution_count": 131,
   "id": "800b0915",
   "metadata": {},
   "outputs": [
    {
     "name": "stdout",
     "output_type": "stream",
     "text": [
      "*** Saving Model ***\n",
      "*** Saving Complete ***\n"
     ]
    }
   ],
   "source": [
    "print('*** Saving Model ***')\n",
    "\n",
    "import pickle\n",
    "\n",
    "pickle.dump(model,open('spinnyKitty.pkl', 'wb'))\n",
    "\n",
    "print('*** Saving Complete ***')\n"
   ]
  },
  {
   "cell_type": "code",
   "execution_count": 29,
   "id": "fcc222cc",
   "metadata": {},
   "outputs": [
    {
     "data": {
      "text/plain": [
       "array([1])"
      ]
     },
     "execution_count": 29,
     "metadata": {},
     "output_type": "execute_result"
    }
   ],
   "source": [
    "model.predict([[5.0, 1, 4, 12]])"
   ]
  },
  {
   "cell_type": "code",
   "execution_count": null,
   "id": "1390601d",
   "metadata": {},
   "outputs": [],
   "source": []
  }
 ],
 "metadata": {
  "kernelspec": {
   "display_name": "Python 3 (ipykernel)",
   "language": "python",
   "name": "python3"
  },
  "language_info": {
   "codemirror_mode": {
    "name": "ipython",
    "version": 3
   },
   "file_extension": ".py",
   "mimetype": "text/x-python",
   "name": "python",
   "nbconvert_exporter": "python",
   "pygments_lexer": "ipython3",
   "version": "3.8.9"
  }
 },
 "nbformat": 4,
 "nbformat_minor": 5
}
